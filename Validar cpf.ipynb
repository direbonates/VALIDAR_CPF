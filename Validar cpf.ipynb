{
 "cells": [
  {
   "cell_type": "code",
   "execution_count": 19,
   "id": "4f35d5b0",
   "metadata": {},
   "outputs": [
    {
     "name": "stdout",
     "output_type": "stream",
     "text": [
      "Digite o número do seu CPF (somente números): 40522938272\n",
      "7\n",
      "2\n",
      "CPF válido\n"
     ]
    }
   ],
   "source": [
    "#Programa para validar cpf\n",
    "cpf = int(input(\"Digite o número do seu CPF (somente números): \"))\n",
    "a = ( cpf // 10000000000 )\n",
    "b = ( cpf - (a) * 10000000000) // 1000000000\n",
    "c = ( cpf - (a*10 + b) * 1000000000)// 100000000\n",
    "d = ( cpf - (a*100 + b*10 + c) * 100000000)//  10000000\n",
    "e = ( cpf - (a*1000 + b*100 + c*10 + d) * 10000000)//  1000000\n",
    "f = ( cpf - (a*10000 + b*1000 + c*100 + d*10 + e) * 1000000)//  100000\n",
    "g = ( cpf - (a*100000 + b*10000 + c*1000 + d*100 + e*10 + f) * 100000)//  10000\n",
    "h = ( cpf - (a*1000000 + b*100000 + c*10000 + d*1000 + e*100 + f*10 + g) * 10000)//  1000\n",
    "i = ( cpf - (a*10000000 + b*1000000 + c*100000 + d*10000 + e*1000 + f*100 + g*10 + h) * 1000)//  100\n",
    "j = ( cpf - (a*100000000 + b*10000000 + c*1000000 + d*100000 + e*10000 + f*1000 + g*100 + h*10 + i) * 100)//  10\n",
    "k = ( cpf - (a*1000000000 + b*100000000 + c*10000000 + d*1000000 + e*100000 + f*10000 + g*1000 + h*100 + i*10 + j) * 10)//  1\n",
    "dig1 = a*10 + b*9 + c*8 + d*7 + e*6 + f*5 + g*4 + h*3 + i*2\n",
    "dig1rest = dig1 % 11\n",
    "dig1int = dig1 // 11\n",
    "if dig1rest < 2 :\n",
    "    dg1 = 0\n",
    "    print(dg1)\n",
    "elif dig1rest >= 2 :\n",
    "    dg1 = 11 - dig1rest\n",
    "    print(dg1)\n",
    "dig2 = a*11 + b*10 + c*9 + d*8 + e*7 + f*6 + g*5 + h*4 + i*3 + dg1*2\n",
    "dig2rest = dig2 % 11\n",
    "if dig2rest < 2 :\n",
    "    dg2 = 0\n",
    "    print(dg2)\n",
    "elif dig2rest >= 2 :\n",
    "    dg2 = 11 - dig2rest\n",
    "    print(dg2)\n",
    "if dg1 == j and dg2 == k :\n",
    "    print(\"CPF válido\")\n",
    "else:\n",
    "    print(\"CPF inválido\")"
   ]
  },
  {
   "cell_type": "code",
   "execution_count": null,
   "id": "78953c3b",
   "metadata": {},
   "outputs": [],
   "source": []
  },
  {
   "cell_type": "code",
   "execution_count": null,
   "id": "6b3f334c",
   "metadata": {},
   "outputs": [],
   "source": []
  },
  {
   "cell_type": "code",
   "execution_count": null,
   "id": "3f7e4349",
   "metadata": {},
   "outputs": [],
   "source": []
  }
 ],
 "metadata": {
  "kernelspec": {
   "display_name": "Python 3",
   "language": "python",
   "name": "python3"
  },
  "language_info": {
   "codemirror_mode": {
    "name": "ipython",
    "version": 3
   },
   "file_extension": ".py",
   "mimetype": "text/x-python",
   "name": "python",
   "nbconvert_exporter": "python",
   "pygments_lexer": "ipython3",
   "version": "3.8.8"
  }
 },
 "nbformat": 4,
 "nbformat_minor": 5
}
